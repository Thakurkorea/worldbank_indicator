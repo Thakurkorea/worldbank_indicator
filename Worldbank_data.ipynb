{
  "nbformat": 4,
  "nbformat_minor": 0,
  "metadata": {
    "colab": {
      "provenance": []
    },
    "kernelspec": {
      "name": "python3",
      "display_name": "Python 3"
    },
    "language_info": {
      "name": "python"
    }
  },
  "cells": [
    {
      "cell_type": "code",
      "source": [
        "pip install wbdata"
      ],
      "metadata": {
        "id": "EP14pxuRQKaB"
      },
      "execution_count": null,
      "outputs": []
    },
    {
      "cell_type": "code",
      "execution_count": null,
      "metadata": {
        "id": "NGisvmOeQEi1"
      },
      "outputs": [],
      "source": [
        "import wbdata\n",
        "import pandas as pd\n",
        "import datetime\n",
        "\n",
        "# Set up the date range\n",
        "start_date = datetime.datetime(2000, 1, 1)\n",
        "end_date = datetime.datetime(2021, 12, 31)\n",
        "\n",
        "# Specify indicators for health data (you can explore more indicators on the World Bank website)\n",
        "indicators = {'SP.DYN.IMRT.IN': 'Infant Mortality Rate',\n",
        "              'SH.MED.BEDS.ZS': 'Hospital beds (per 1,000 people)',\n",
        "              'SP.POP.TOTL': 'Population, total'}\n",
        "\n",
        "# Fetch data for Korea (KOR)\n",
        "data = wbdata.get_dataframe(indicators, country='KOR', data_date=(start_date, end_date), convert_date=False)\n",
        "\n",
        "# Save the data to a CSV file\n",
        "data.to_csv('world_bank_health_data_korea_2000_2021.csv')\n",
        "\n",
        "print(\"Data downloaded successfully!\")\n"
      ]
    },
    {
      "cell_type": "code",
      "source": [
        "import wbdata\n",
        "import pandas as pd\n",
        "import datetime\n",
        "\n",
        "# Set up the date range for 2000-2021\n",
        "start_date = datetime.datetime(2000, 1, 1)\n",
        "end_date = datetime.datetime(2021, 12, 31)\n",
        "\n",
        "# List of health indicators (World Bank indicator codes and names)\n",
        "indicators = {\n",
        "    'SP.POP.TOTL': 'Total Population',\n",
        "    'SP.DYN.TFRT.IN': 'Fertility Rate, Total (births per woman)',\n",
        "    'SP.DYN.CBRT.IN': 'Birth Rate, Crude (per 1,000 people)',\n",
        "    'SP.DYN.CDRT.IN': 'Death Rate, Crude (per 1,000 people)',\n",
        "    'SP.DYN.LE00.IN': 'Life Expectancy at Birth (years)',\n",
        "    'SP.POP.65UP.TO.ZS': 'Population Ages 65 and Above (% of total population)',\n",
        "    'SH.DYN.MORT': 'Mortality Rate, Adult (per 1,000 people)',\n",
        "    'SP.DYN.IMRT.IN': 'Infant Mortality Rate (per 1,000 live births)',\n",
        "    'SH.STA.MMRT': 'Maternal Mortality Ratio (per 100,000 live births)',\n",
        "    'SH.DYN.NMRT': 'Neonatal Mortality Rate (per 1,000 live births)',\n",
        "    'SH.STA.DIAB.ZS': 'Prevalence of Diabetes (% of population ages 20-79)',\n",
        "    'SH.XPD.CHEX.PC.CD': 'Current Health Expenditure per Capita (current US$)',\n",
        "    'SH.STA.SMSS.ZS': 'Smoking Prevalence, Males (% of adults)',\n",
        "    'SH.STA.SUIC.P5': 'Suicide Mortality Rate (per 100,000 population)',\n",
        "    'SH.DYN.AIDS.ZS': 'Prevalence of HIV (% of population ages 15-49)',\n",
        "    'SH.TBS.INCD': 'Incidence of Tuberculosis (per 100,000 people)',\n",
        "    'SH.MED.BEDS.ZS': 'Hospital Beds (per 1,000 people)',\n",
        "    'SH.MED.PHYS.ZS': 'Physicians (per 1,000 people)',\n",
        "    'SH.MED.NUMW.P3': 'Nurses and Midwives (per 1,000 people)',\n",
        "    'SH.XPD.CHEX.GD.ZS': 'Current Health Expenditure (% of GDP)',\n",
        "    'SH.XPD.PUBL.ZS': 'Domestic General Government Health Expenditure (% of GDP)',\n",
        "    'SH.IMM.MEAS': 'Immunization, Measles (% of children ages 12-23 months)',\n",
        "    'SH.IMM.IDPT': 'Immunization, DPT (% of children ages 12-23 months)',\n",
        "    'SH.IMM.HPV.F1.ZS': 'Immunization, HPV (First dose) (% of females ages 10-14)',\n",
        "    'SH.STA.MALN.ZS': 'Prevalence of Malnutrition (% of children under 5)',\n",
        "    'SH.STA.STNT.ZS': 'Prevalence of Stunting (% of children under 5)',\n",
        "    'SH.STA.WAST.ZS': 'Prevalence of Wasting (% of children under 5)',\n",
        "    'SP.MTR.1519.ZS': 'Adolescent Fertility Rate (births per 1,000 women ages 15-19)',\n",
        "    'SH.CON.AIDS.ZS': 'Condom Use, Population Ages 15-49 (%)',\n",
        "    'SH.MMR.RISK.ZS': 'Lifetime Risk of Maternal Death (%)',\n",
        "    'SH.XPD.OOPC.CH.ZS': 'Out-of-Pocket Expenditure (% of Current Health Expenditure)',\n",
        "    'SH.XPD.PRIV.ZS': 'Domestic Private Health Expenditure (% of Current Health Expenditure)',\n",
        "    'SH.XPD.TOTL.ZS': 'Total Health Expenditure (% of GDP)',\n",
        "    'SH.STA.OWGH.ZS': 'Prevalence of Overweight, Adult (% of population ages 18+)',\n",
        "    'SH.STA.BRTC.ZS': 'Prevalence of Current Tobacco Use, Female (% of females ages 15+)',\n",
        "    'SH.STA.OB18.ZS': 'Prevalence of Obesity, Adult (% of population ages 18+)',\n",
        "    'SH.H2O.SMDW.ZS': 'People Using at Least Basic Drinking Water Services (% of population)',\n",
        "    'SH.STA.WASH.P5': 'Mortality Rate Attributed to Unsafe Water, Sanitation, and Hygiene (per 100,000 population)'\n",
        "}\n",
        "\n",
        "# Fetch the data for South Korea (country code 'KOR') for the specified time period\n",
        "data = wbdata.get_dataframe(indicators, country='KOR')\n",
        "\n",
        "# Convert the date index to a datetime type and filter for the desired date range (2000-2021)\n",
        "data.index = pd.to_datetime(data.index.get_level_values('date'))\n",
        "data = data[(data.index >= '2000-01-01') & (data.index <= '2021-12-31')]\n",
        "\n",
        "# Save the data to a CSV file\n",
        "data.to_csv('world_bank_health_data_korea_2000_2021.csv')\n",
        "\n",
        "print(\"Data downloaded and saved successfully!\")\n"
      ],
      "metadata": {
        "id": "_6-mnMNOQ67x"
      },
      "execution_count": null,
      "outputs": []
    },
    {
      "cell_type": "code",
      "source": [
        "import wbdata\n",
        "import pandas as pd\n",
        "import datetime\n",
        "\n",
        "# Set up the date range for 2000-2021\n",
        "start_date = datetime.datetime(2000, 1, 1)\n",
        "end_date = datetime.datetime(2021, 12, 31)\n",
        "\n",
        "# List of 4 selected health indicators (World Bank indicator codes and names)\n",
        "indicators = {\n",
        "    'SP.POP.TOTL': 'Total Population',\n",
        "    'SP.DYN.LE00.IN': 'Life Expectancy at Birth (years)',\n",
        "    'SH.MED.BEDS.ZS': 'Hospital Beds (per 1,000 people)',\n",
        "    'SH.XPD.CHEX.PC.CD': 'Current Health Expenditure per Capita (current US$)'\n",
        "}\n",
        "\n",
        "# Fetch the data for South Korea (country code 'KOR') for the specified time period\n",
        "data = wbdata.get_dataframe(indicators, country='KOR')\n",
        "\n",
        "# Convert the date index to a datetime type and filter for the desired date range (2000-2021)\n",
        "data.index = pd.to_datetime(data.index.get_level_values('date'))\n",
        "data = data[(data.index >= '2000-01-01') & (data.index <= '2021-12-31')]\n",
        "\n",
        "# Save the data to a CSV file\n",
        "data.to_csv('world_bank_health_data_korea_2000_2021.csv')\n",
        "print(data.head())\n",
        "print(\"Data downloaded and saved successfully!\")\n"
      ],
      "metadata": {
        "colab": {
          "base_uri": "https://localhost:8080/"
        },
        "id": "dwQdIYbSQ-LC",
        "outputId": "97deba94-802c-4087-e802-8501e243821b"
      },
      "execution_count": null,
      "outputs": [
        {
          "output_type": "stream",
          "name": "stdout",
          "text": [
            "            Total Population  Life Expectancy at Birth (years)  \\\n",
            "date                                                             \n",
            "2021-01-01        51769539.0                         83.526829   \n",
            "2020-01-01        51836239.0                         83.426829   \n",
            "2019-01-01        51764822.0                         83.226829   \n",
            "2018-01-01        51585058.0                         82.626829   \n",
            "2017-01-01        51361911.0                         82.626829   \n",
            "\n",
            "            Hospital Beds (per 1,000 people)  \\\n",
            "date                                           \n",
            "2021-01-01                             12.75   \n",
            "2020-01-01                             12.65   \n",
            "2019-01-01                             12.42   \n",
            "2018-01-01                             12.42   \n",
            "2017-01-01                             12.25   \n",
            "\n",
            "            Current Health Expenditure per Capita (current US$)  \n",
            "date                                                             \n",
            "2021-01-01                                        3260.448730    \n",
            "2020-01-01                                        2648.224121    \n",
            "2019-01-01                                        2605.993408    \n",
            "2018-01-01                                        2501.139648    \n",
            "2017-01-01                                        2220.564209    \n",
            "Data downloaded and saved successfully!\n"
          ]
        }
      ]
    },
    {
      "cell_type": "code",
      "source": [
        "import wbdata\n",
        "import pandas as pd\n",
        "import datetime\n",
        "\n",
        "# Set up the date range for 2000-2021\n",
        "start_date = datetime.datetime(2000, 1, 1)\n",
        "end_date = datetime.datetime(2021, 12, 31)\n",
        "\n",
        "# Corrected health indicators (World Bank indicator codes and names)\n",
        "indicators = {\n",
        "    'SP.POP.TOTL': 'Total Population',  # Valid\n",
        "    'SP.DYN.LE00.IN': 'Life Expectancy at Birth (years)',  # Valid\n",
        "    'SH.MED.BEDS.ZS': 'Hospital Beds (per 1,000 people)',  # Valid\n",
        "    'SH.XPD.CHEX.PC.CD': 'Current Health Expenditure per Capita (current US$)'  # Valid\n",
        "}\n",
        "\n",
        "# Fetch the data for South Korea (country code 'KOR') for the specified time period\n",
        "data = wbdata.get_dataframe(indicators, country='KOR')\n",
        "\n",
        "# Convert the date index to a datetime type and filter for the desired date range (2000-2021)\n",
        "data.index = pd.to_datetime(data.index.get_level_values('date'))\n",
        "data = data[(data.index >= '2000-01-01') & (data.index <= '2021-12-31')]\n",
        "\n",
        "# Save the data to a CSV file\n",
        "data.to_csv('world_bank_health_data_korea_2000_2021.csv')\n",
        "\n",
        "print(\"Data downloaded and saved successfully!\")\n"
      ],
      "metadata": {
        "colab": {
          "base_uri": "https://localhost:8080/"
        },
        "id": "kUTgqSvzWZLB",
        "outputId": "93f93dd7-d692-4648-f3db-6ed53d205664"
      },
      "execution_count": null,
      "outputs": [
        {
          "output_type": "stream",
          "name": "stdout",
          "text": [
            "Data downloaded and saved successfully!\n"
          ]
        }
      ]
    },
    {
      "cell_type": "code",
      "source": [
        "import wbdata\n",
        "import pandas as pd\n",
        "import datetime\n",
        "\n",
        "# Set up the date range for 2000-2021\n",
        "start_date = datetime.datetime(2000, 1, 1)\n",
        "end_date = datetime.datetime(2021, 12, 31)\n",
        "\n",
        "# Fetch all available indicators\n",
        "indicators = wbdata.get_indicators()\n",
        "# print(len(indicators))\n",
        "# print(indicators)"
      ],
      "metadata": {
        "id": "APJ8B7gWWrNJ"
      },
      "execution_count": null,
      "outputs": []
    },
    {
      "cell_type": "code",
      "source": [
        "import wbdata\n",
        "import pandas as pd\n",
        "import datetime\n",
        "\n",
        "# Set up the date range for 2000-2021\n",
        "start_date = datetime.datetime(2000, 1, 1)\n",
        "end_date = datetime.datetime(2021, 12, 31)\n",
        "\n",
        "# Step 1: Fetch all available indicators\n",
        "all_indicators = wbdata.get_indicators()\n",
        "\n",
        "# Step 2: Print available indicators\n",
        "# print(\"Available Indicators:\")\n",
        "# for indicator in all_indicators:\n",
        "#     print(f\"{indicator['id']}: {indicator['name']}\")\n",
        "\n",
        "# Known health-related indicators\n",
        "indicators = {\n",
        "    'SP.POP.TOTL': 'Total Population',\n",
        "    'SP.DYN.LE00.IN': 'Life Expectancy at Birth (years)',\n",
        "    'SH.MED.BEDS.ZS': 'Hospital Beds (per 1,000 people)',\n",
        "    'SH.XPD.CHEX.PC.CD': 'Current Health Expenditure per Capita (current US$)',\n",
        "    'SP.DYN.IMRT.IN': 'Infant Mortality Rate (per 1,000 live births)',\n",
        "    'SH.DYN.MORT': 'Mortality Rate, Adult (per 1,000 people)',\n",
        "    'SH.STA.MMRT': 'Maternal Mortality Ratio (per 100,000 live births)',\n",
        "    # Add more indicators as needed\n",
        "}\n",
        "\n",
        "# Step 3: Filter only available health indicators for South Korea\n",
        "valid_indicators = {key: name for key, name in indicators.items() if key in [ind['id'] for ind in all_indicators]}\n",
        "\n",
        "# Step 4: Fetch the data for South Korea (country code 'KOR')\n",
        "try:\n",
        "    data = wbdata.get_dataframe(valid_indicators, country='KOR')\n",
        "    # Convert the date index to a datetime type and filter for the desired date range (2000-2021)\n",
        "    data.index = pd.to_datetime(data.index.get_level_values('date'))\n",
        "    data = data[(data.index >= '2000-01-01') & (data.index <= '2021-12-31')]\n",
        "    # Save the data to a CSV file\n",
        "    data.to_csv('world_bankaaaaa_health_data_korea_2000_2021.csv')\n",
        "\n",
        "    print(\"Data downloadedaaa and saved successfully!\")\n",
        "\n",
        "except Exception as e:\n",
        "    print(\"Error occurred:\", e)\n"
      ],
      "metadata": {
        "colab": {
          "base_uri": "https://localhost:8080/"
        },
        "id": "cX_cKaH0ZaYG",
        "outputId": "81cd5d45-21b6-4ea3-ee93-09b06ca6d124"
      },
      "execution_count": null,
      "outputs": [
        {
          "output_type": "stream",
          "name": "stdout",
          "text": [
            "Data downloadedaaa and saved successfully!\n"
          ]
        }
      ]
    }
  ]
}