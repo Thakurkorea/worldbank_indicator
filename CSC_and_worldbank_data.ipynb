{
  "nbformat": 4,
  "nbformat_minor": 0,
  "metadata": {
    "colab": {
      "provenance": [],
      "toc_visible": true
    },
    "kernelspec": {
      "name": "python3",
      "display_name": "Python 3"
    },
    "language_info": {
      "name": "python"
    }
  },
  "cells": [
    {
      "cell_type": "code",
      "source": [
        "pip install sodapy"
      ],
      "metadata": {
        "id": "QXU_LGtOnqGK"
      },
      "execution_count": null,
      "outputs": []
    },
    {
      "cell_type": "code",
      "execution_count": null,
      "metadata": {
        "colab": {
          "base_uri": "https://localhost:8080/",
          "height": 241
        },
        "id": "BnOWYfWmndqL",
        "outputId": "7322ead4-6897-4b2d-cae6-ce143a22b3e0"
      },
      "outputs": [
        {
          "output_type": "stream",
          "name": "stderr",
          "text": [
            "WARNING:root:Requests made without an app_token will be subject to strict throttling limits.\n"
          ]
        },
        {
          "output_type": "stream",
          "name": "stdout",
          "text": [
            "(5000, 11)\n"
          ]
        },
        {
          "output_type": "execute_result",
          "data": {
            "text/plain": [
              "        vaccine           dose geography_type      geography year_season  \\\n",
              "4995  Exemption  Any Exemption         States         Nevada     2010-11   \n",
              "4996  Exemption  Any Exemption         States  New Hampshire     2010-11   \n",
              "4997  Exemption  Any Exemption         States     New Jersey     2010-11   \n",
              "4998  Exemption  Any Exemption         States     New Mexico     2010-11   \n",
              "4999  Exemption  Any Exemption         States       New York     2010-11   \n",
              "\n",
              "     coverage_estimate population_sample_size percent_surveyed foot_notes  \\\n",
              "4995                NA                    NaN              NaN        NaN   \n",
              "4996                NA                    NaN              NaN        NaN   \n",
              "4997                NA                    NaN              NaN        NaN   \n",
              "4998                NA                    NaN              NaN        NaN   \n",
              "4999                NA                    NaN              NaN        NaN   \n",
              "\n",
              "     survey_type number_of_exemptions  \n",
              "4995          NA                  NaN  \n",
              "4996          NA                  NaN  \n",
              "4997          NA                  NaN  \n",
              "4998          NA                  NaN  \n",
              "4999          NA                  NaN  "
            ],
            "text/html": [
              "\n",
              "  <div id=\"df-13ca460f-d9d7-4c96-aa31-52577e524820\">\n",
              "    <div class=\"colab-df-container\">\n",
              "      <div>\n",
              "<style scoped>\n",
              "    .dataframe tbody tr th:only-of-type {\n",
              "        vertical-align: middle;\n",
              "    }\n",
              "\n",
              "    .dataframe tbody tr th {\n",
              "        vertical-align: top;\n",
              "    }\n",
              "\n",
              "    .dataframe thead th {\n",
              "        text-align: right;\n",
              "    }\n",
              "</style>\n",
              "<table border=\"1\" class=\"dataframe\">\n",
              "  <thead>\n",
              "    <tr style=\"text-align: right;\">\n",
              "      <th></th>\n",
              "      <th>vaccine</th>\n",
              "      <th>dose</th>\n",
              "      <th>geography_type</th>\n",
              "      <th>geography</th>\n",
              "      <th>year_season</th>\n",
              "      <th>coverage_estimate</th>\n",
              "      <th>population_sample_size</th>\n",
              "      <th>percent_surveyed</th>\n",
              "      <th>foot_notes</th>\n",
              "      <th>survey_type</th>\n",
              "      <th>number_of_exemptions</th>\n",
              "    </tr>\n",
              "  </thead>\n",
              "  <tbody>\n",
              "    <tr>\n",
              "      <th>4995</th>\n",
              "      <td>Exemption</td>\n",
              "      <td>Any Exemption</td>\n",
              "      <td>States</td>\n",
              "      <td>Nevada</td>\n",
              "      <td>2010-11</td>\n",
              "      <td>NA</td>\n",
              "      <td>NaN</td>\n",
              "      <td>NaN</td>\n",
              "      <td>NaN</td>\n",
              "      <td>NA</td>\n",
              "      <td>NaN</td>\n",
              "    </tr>\n",
              "    <tr>\n",
              "      <th>4996</th>\n",
              "      <td>Exemption</td>\n",
              "      <td>Any Exemption</td>\n",
              "      <td>States</td>\n",
              "      <td>New Hampshire</td>\n",
              "      <td>2010-11</td>\n",
              "      <td>NA</td>\n",
              "      <td>NaN</td>\n",
              "      <td>NaN</td>\n",
              "      <td>NaN</td>\n",
              "      <td>NA</td>\n",
              "      <td>NaN</td>\n",
              "    </tr>\n",
              "    <tr>\n",
              "      <th>4997</th>\n",
              "      <td>Exemption</td>\n",
              "      <td>Any Exemption</td>\n",
              "      <td>States</td>\n",
              "      <td>New Jersey</td>\n",
              "      <td>2010-11</td>\n",
              "      <td>NA</td>\n",
              "      <td>NaN</td>\n",
              "      <td>NaN</td>\n",
              "      <td>NaN</td>\n",
              "      <td>NA</td>\n",
              "      <td>NaN</td>\n",
              "    </tr>\n",
              "    <tr>\n",
              "      <th>4998</th>\n",
              "      <td>Exemption</td>\n",
              "      <td>Any Exemption</td>\n",
              "      <td>States</td>\n",
              "      <td>New Mexico</td>\n",
              "      <td>2010-11</td>\n",
              "      <td>NA</td>\n",
              "      <td>NaN</td>\n",
              "      <td>NaN</td>\n",
              "      <td>NaN</td>\n",
              "      <td>NA</td>\n",
              "      <td>NaN</td>\n",
              "    </tr>\n",
              "    <tr>\n",
              "      <th>4999</th>\n",
              "      <td>Exemption</td>\n",
              "      <td>Any Exemption</td>\n",
              "      <td>States</td>\n",
              "      <td>New York</td>\n",
              "      <td>2010-11</td>\n",
              "      <td>NA</td>\n",
              "      <td>NaN</td>\n",
              "      <td>NaN</td>\n",
              "      <td>NaN</td>\n",
              "      <td>NA</td>\n",
              "      <td>NaN</td>\n",
              "    </tr>\n",
              "  </tbody>\n",
              "</table>\n",
              "</div>\n",
              "      <button class=\"colab-df-convert\" onclick=\"convertToInteractive('df-13ca460f-d9d7-4c96-aa31-52577e524820')\"\n",
              "              title=\"Convert this dataframe to an interactive table.\"\n",
              "              style=\"display:none;\">\n",
              "        \n",
              "  <svg xmlns=\"http://www.w3.org/2000/svg\" height=\"24px\"viewBox=\"0 0 24 24\"\n",
              "       width=\"24px\">\n",
              "    <path d=\"M0 0h24v24H0V0z\" fill=\"none\"/>\n",
              "    <path d=\"M18.56 5.44l.94 2.06.94-2.06 2.06-.94-2.06-.94-.94-2.06-.94 2.06-2.06.94zm-11 1L8.5 8.5l.94-2.06 2.06-.94-2.06-.94L8.5 2.5l-.94 2.06-2.06.94zm10 10l.94 2.06.94-2.06 2.06-.94-2.06-.94-.94-2.06-.94 2.06-2.06.94z\"/><path d=\"M17.41 7.96l-1.37-1.37c-.4-.4-.92-.59-1.43-.59-.52 0-1.04.2-1.43.59L10.3 9.45l-7.72 7.72c-.78.78-.78 2.05 0 2.83L4 21.41c.39.39.9.59 1.41.59.51 0 1.02-.2 1.41-.59l7.78-7.78 2.81-2.81c.8-.78.8-2.07 0-2.86zM5.41 20L4 18.59l7.72-7.72 1.47 1.35L5.41 20z\"/>\n",
              "  </svg>\n",
              "      </button>\n",
              "      \n",
              "  <style>\n",
              "    .colab-df-container {\n",
              "      display:flex;\n",
              "      flex-wrap:wrap;\n",
              "      gap: 12px;\n",
              "    }\n",
              "\n",
              "    .colab-df-convert {\n",
              "      background-color: #E8F0FE;\n",
              "      border: none;\n",
              "      border-radius: 50%;\n",
              "      cursor: pointer;\n",
              "      display: none;\n",
              "      fill: #1967D2;\n",
              "      height: 32px;\n",
              "      padding: 0 0 0 0;\n",
              "      width: 32px;\n",
              "    }\n",
              "\n",
              "    .colab-df-convert:hover {\n",
              "      background-color: #E2EBFA;\n",
              "      box-shadow: 0px 1px 2px rgba(60, 64, 67, 0.3), 0px 1px 3px 1px rgba(60, 64, 67, 0.15);\n",
              "      fill: #174EA6;\n",
              "    }\n",
              "\n",
              "    [theme=dark] .colab-df-convert {\n",
              "      background-color: #3B4455;\n",
              "      fill: #D2E3FC;\n",
              "    }\n",
              "\n",
              "    [theme=dark] .colab-df-convert:hover {\n",
              "      background-color: #434B5C;\n",
              "      box-shadow: 0px 1px 3px 1px rgba(0, 0, 0, 0.15);\n",
              "      filter: drop-shadow(0px 1px 2px rgba(0, 0, 0, 0.3));\n",
              "      fill: #FFFFFF;\n",
              "    }\n",
              "  </style>\n",
              "\n",
              "      <script>\n",
              "        const buttonEl =\n",
              "          document.querySelector('#df-13ca460f-d9d7-4c96-aa31-52577e524820 button.colab-df-convert');\n",
              "        buttonEl.style.display =\n",
              "          google.colab.kernel.accessAllowed ? 'block' : 'none';\n",
              "\n",
              "        async function convertToInteractive(key) {\n",
              "          const element = document.querySelector('#df-13ca460f-d9d7-4c96-aa31-52577e524820');\n",
              "          const dataTable =\n",
              "            await google.colab.kernel.invokeFunction('convertToInteractive',\n",
              "                                                     [key], {});\n",
              "          if (!dataTable) return;\n",
              "\n",
              "          const docLinkHtml = 'Like what you see? Visit the ' +\n",
              "            '<a target=\"_blank\" href=https://colab.research.google.com/notebooks/data_table.ipynb>data table notebook</a>'\n",
              "            + ' to learn more about interactive tables.';\n",
              "          element.innerHTML = '';\n",
              "          dataTable['output_type'] = 'display_data';\n",
              "          await google.colab.output.renderOutput(dataTable, element);\n",
              "          const docLink = document.createElement('div');\n",
              "          docLink.innerHTML = docLinkHtml;\n",
              "          element.appendChild(docLink);\n",
              "        }\n",
              "      </script>\n",
              "    </div>\n",
              "  </div>\n",
              "  "
            ]
          },
          "metadata": {},
          "execution_count": 14
        }
      ],
      "source": [
        "#!/usr/bin/env python\n",
        "\n",
        "# make sure to install these packages before running:\n",
        "# pip install pandas\n",
        "# pip install sodapy\n",
        "\n",
        "import pandas as pd\n",
        "from sodapy import Socrata\n",
        "\n",
        "# Unauthenticated client only works with public data sets. Note 'None'\n",
        "# in place of application token, and no username or password:\n",
        "client = Socrata(\"data.cdc.gov\", None)\n",
        "\n",
        "# Example authenticated client (needed for non-public datasets):\n",
        "# client = Socrata(data.cdc.gov,\n",
        "#                  MyAppToken,\n",
        "#                  username=\"user@example.com\",\n",
        "#                  password=\"AFakePassword\")\n",
        "\n",
        "# First 2000 results, returned as JSON from API / converted to Python list of\n",
        "# dictionaries by sodapy.\n",
        "results = client.get(\"ijqb-a7ye\", limit=5000)\n",
        "\n",
        "# Convert to pandas DataFrame\n",
        "results_df = pd.DataFrame.from_records(results)\n",
        "print(np.shape(results_df))\n",
        "results_df.tail()"
      ]
    },
    {
      "cell_type": "code",
      "source": [
        "import numpy as np\n",
        "np.shape(results_df)"
      ],
      "metadata": {
        "colab": {
          "base_uri": "https://localhost:8080/"
        },
        "id": "NasNTy6BoRk3",
        "outputId": "a256cbfd-ab6d-4ad9-c341-efe557ec7cb9"
      },
      "execution_count": null,
      "outputs": [
        {
          "output_type": "execute_result",
          "data": {
            "text/plain": [
              "(2000, 11)"
            ]
          },
          "metadata": {},
          "execution_count": 11
        }
      ]
    },
    {
      "cell_type": "code",
      "source": [],
      "metadata": {
        "id": "1fGqqSPfRuEf"
      },
      "execution_count": null,
      "outputs": []
    },
    {
      "cell_type": "markdown",
      "source": [
        "#CDC API"
      ],
      "metadata": {
        "id": "8pLk6I76RvCg"
      }
    },
    {
      "cell_type": "code",
      "source": [
        "# pip install requests"
      ],
      "metadata": {
        "id": "xf1lFLY9R2Do"
      },
      "execution_count": null,
      "outputs": []
    },
    {
      "cell_type": "code",
      "source": [
        "import requests\n",
        "\n",
        "# specify the endpoint URL\n",
        "# url = \"https://www.cdc.gov/api/v2/vaccines/recommendations/child\"\n",
        "# url='https://data.cdc.gov/Flu-Vaccinations/Vaccines-gov-Flu-vaccinating-provider-locations/bugr-bbfr'\n",
        "url='https://gis.cdc.gov/grasp/diabetes/diabetesatlas-surveillance.html'\n",
        "\n",
        "# send a GET request to the endpoint\n",
        "response = requests.get(url)\n",
        "\n",
        "# check if the response was successful\n",
        "if response.status_code == 200:\n",
        "    # retrieve the data from the response\n",
        "    data = response.json()\n",
        "    # do something with the data, for example:\n",
        "    print(data)\n",
        "else:\n",
        "    # handle any errors that might have occurred\n",
        "    print(\"Request failed with status code:\", response.status_code)\n"
      ],
      "metadata": {
        "id": "YUWuhjY4Rzy2"
      },
      "execution_count": null,
      "outputs": []
    },
    {
      "cell_type": "code",
      "source": [
        "# next trial\n",
        "from bs4 import BeautifulSoup\n",
        "html_doc = \"\"\"<ul class=\"foo\">foo</ul><ul data-bin=\"Sdafdo39\">\"\"\"\n",
        "soup = BeautifulSoup(html_doc)\n",
        "\n",
        "# Select\n",
        "soup.select('ul[data-bin]')"
      ],
      "metadata": {
        "id": "NBUcmG99Seom"
      },
      "execution_count": null,
      "outputs": []
    },
    {
      "cell_type": "code",
      "source": [
        "import requests\n",
        "from bs4 import BeautifulSoup\n",
        "\n",
        "# specify the URL of the CDC webpage you want to scrape\n",
        "url = \"https://www.cdc.gov/vaccines/data/vaccination-coverage-reports/index.html\"\n",
        "\n",
        "# send a GET request to the URL\n",
        "response = requests.get(url)\n",
        "\n",
        "# parse the HTML content of the response\n",
        "soup = BeautifulSoup(response.content, \"html.parser\")\n",
        "\n",
        "# find the relevant HTML elements in the page\n",
        "table_rows = soup.find_all(\"tr\")\n",
        "\n",
        "# extract the data from the table\n",
        "for row in table_rows:\n",
        "    cells = row.find_all(\"td\")\n",
        "    if len(cells) > 0:\n",
        "        # do something with the data, for example:\n",
        "        print(cells[0].text, cells[1].text)\n"
      ],
      "metadata": {
        "id": "7lAIiNKnU57Z"
      },
      "execution_count": 10,
      "outputs": []
    },
    {
      "cell_type": "code",
      "source": [
        "import requests\n",
        "\n",
        "# specify the endpoint URL\n",
        "url = \"https://www.cdc.gov/ncird/api/v1/vaccines/recommendations\"\n",
        "\n",
        "# send a GET request to the endpoint\n",
        "response = requests.get(url)\n",
        "\n",
        "# check if the response was successful\n",
        "if response.status_code == 200:\n",
        "    # retrieve the data from the response\n",
        "    data = response.json()\n",
        "    # do something with the data, for example:\n",
        "    print(data)\n",
        "else:\n",
        "    # handle any errors that might have occurred\n",
        "    print(\"Request failed with status code:\", response.status_code)\n"
      ],
      "metadata": {
        "colab": {
          "base_uri": "https://localhost:8080/"
        },
        "id": "H9i8LX-dVlXw",
        "outputId": "eeba9a6f-f9e0-454e-f0f8-7b9f6f32b16a"
      },
      "execution_count": 11,
      "outputs": [
        {
          "output_type": "stream",
          "name": "stdout",
          "text": [
            "Request failed with status code: 404\n"
          ]
        }
      ]
    },
    {
      "cell_type": "code",
      "source": [],
      "metadata": {
        "id": "VuCGa2RbWG9A"
      },
      "execution_count": null,
      "outputs": []
    },
    {
      "cell_type": "markdown",
      "source": [
        "## World bank data example"
      ],
      "metadata": {
        "id": "Y1-LmtYRWIIK"
      }
    },
    {
      "cell_type": "code",
      "source": [
        "import requests\n",
        "\n",
        "# specify the API endpoint URL\n",
        "url = \"http://api.worldbank.org/v2/country/all/indicator/SH.IMM.PCV3?\"\n",
        "\n",
        "# specify the parameters for the API request\n",
        "params = {\n",
        "    \"format\": \"json\",\n",
        "    \"per_page\": \"1000\",\n",
        "    \"date\": \"2010:2020\"\n",
        "}\n",
        "\n",
        "# send a GET request to the API endpoint\n",
        "response = requests.get(url, params=params)\n",
        "\n",
        "# check if the response was successful\n",
        "if response.status_code == 200:\n",
        "    # retrieve the data from the response\n",
        "    data = response.json()\n",
        "    # do something with the data, for example:\n",
        "    for item in data[1]:\n",
        "        print(item[\"country\"][\"value\"], item[\"value\"])\n",
        "else:\n",
        "    # handle any errors that might have occurred\n",
        "    print(\"Request failed with status code:\", response.status_code)\n"
      ],
      "metadata": {
        "id": "ryBNMG-gWMOJ"
      },
      "execution_count": null,
      "outputs": []
    },
    {
      "cell_type": "code",
      "source": [
        "import requests\n",
        "\n",
        "# specify the API endpoint and parameters\n",
        "url = \"http://api.worldbank.org/v2/countries/{country_code}/indicators/SH.STA.IMM3.ZS?format=json&date=2010:2019\"\n",
        "country_code = \"USA\"  # replace with the country code you are interested in\n",
        "\n",
        "# send a GET request to the API endpoint\n",
        "response = requests.get(url.format(country_code=country_code))\n",
        "\n",
        "# check if the response was successful\n",
        "if response.status_code == 200:\n",
        "    # retrieve the data from the response\n",
        "    data = response[1]\n",
        "    # do something with the data, for example:\n",
        "    for record in data:\n",
        "        print(record[\"country\"][\"value\"], record[\"date\"], record[\"value\"])\n",
        "else:\n",
        "    # handle any errors that might have occurred\n",
        "    print(\"Request failed with status code:\", response.status_code)\n"
      ],
      "metadata": {
        "colab": {
          "base_uri": "https://localhost:8080/",
          "height": 235
        },
        "id": "mn3wvHo3WRDh",
        "outputId": "872cd9c8-a9cd-43f3-d68a-18a2a7788ba0"
      },
      "execution_count": 52,
      "outputs": [
        {
          "output_type": "error",
          "ename": "TypeError",
          "evalue": "ignored",
          "traceback": [
            "\u001b[0;31m---------------------------------------------------------------------------\u001b[0m",
            "\u001b[0;31mTypeError\u001b[0m                                 Traceback (most recent call last)",
            "\u001b[0;32m<ipython-input-52-6b7afc6e8157>\u001b[0m in \u001b[0;36m<module>\u001b[0;34m\u001b[0m\n\u001b[1;32m     11\u001b[0m \u001b[0;32mif\u001b[0m \u001b[0mresponse\u001b[0m\u001b[0;34m.\u001b[0m\u001b[0mstatus_code\u001b[0m \u001b[0;34m==\u001b[0m \u001b[0;36m200\u001b[0m\u001b[0;34m:\u001b[0m\u001b[0;34m\u001b[0m\u001b[0;34m\u001b[0m\u001b[0m\n\u001b[1;32m     12\u001b[0m     \u001b[0;31m# retrieve the data from the response\u001b[0m\u001b[0;34m\u001b[0m\u001b[0;34m\u001b[0m\u001b[0;34m\u001b[0m\u001b[0m\n\u001b[0;32m---> 13\u001b[0;31m     \u001b[0mdata\u001b[0m \u001b[0;34m=\u001b[0m \u001b[0mresponse\u001b[0m\u001b[0;34m[\u001b[0m\u001b[0;36m1\u001b[0m\u001b[0;34m]\u001b[0m\u001b[0;34m\u001b[0m\u001b[0;34m\u001b[0m\u001b[0m\n\u001b[0m\u001b[1;32m     14\u001b[0m     \u001b[0;31m# do something with the data, for example:\u001b[0m\u001b[0;34m\u001b[0m\u001b[0;34m\u001b[0m\u001b[0;34m\u001b[0m\u001b[0m\n\u001b[1;32m     15\u001b[0m     \u001b[0;32mfor\u001b[0m \u001b[0mrecord\u001b[0m \u001b[0;32min\u001b[0m \u001b[0mdata\u001b[0m\u001b[0;34m:\u001b[0m\u001b[0;34m\u001b[0m\u001b[0;34m\u001b[0m\u001b[0m\n",
            "\u001b[0;31mTypeError\u001b[0m: 'Response' object is not subscriptable"
          ]
        }
      ]
    },
    {
      "cell_type": "code",
      "source": [
        "# response.text\n",
        "a=response.json()\n",
        "print(a)\n",
        "a[0]['message'][0]['id']"
      ],
      "metadata": {
        "colab": {
          "base_uri": "https://localhost:8080/",
          "height": 53
        },
        "id": "wfW03f4nWvu3",
        "outputId": "b380b9e0-4611-45c4-fbcf-4319781fe1ad"
      },
      "execution_count": 49,
      "outputs": [
        {
          "output_type": "stream",
          "name": "stdout",
          "text": [
            "[{'message': [{'id': '120', 'key': 'Invalid value', 'value': 'The provided parameter value is not valid'}]}]\n"
          ]
        },
        {
          "output_type": "execute_result",
          "data": {
            "text/plain": [
              "'120'"
            ],
            "application/vnd.google.colaboratory.intrinsic+json": {
              "type": "string"
            }
          },
          "metadata": {},
          "execution_count": 49
        }
      ]
    },
    {
      "cell_type": "code",
      "source": [
        "import requests\n",
        "\n",
        "# specify the endpoint URL and the required parameters\n",
        "url = \"http://api.worldbank.org/v2/countries/all/indicators/SH.IMM.COVC.ZS\"\n",
        "params = {\n",
        "    \"format\": \"json\",\n",
        "    \"date\": \"latest\",\n",
        "    \"per_page\": \"1000\"\n",
        "}\n",
        "\n",
        "# send a GET request to the endpoint\n",
        "response = requests.get(url, params=params)\n",
        "\n",
        "# check if the response was successful\n",
        "if response.status_code == 200:\n",
        "    # retrieve the data from the response\n",
        "    data = response.json()\n",
        "    # do something with the data, for example:\n",
        "    for record in data[1]:\n",
        "        if record[\"value\"] is not None:\n",
        "            print(record[\"country\"][\"value\"], record[\"value\"])\n",
        "else:\n",
        "    # handle any errors that might have occurred\n",
        "    print(\"Request failed with status code:\", response.status_code)\n"
      ],
      "metadata": {
        "id": "ybIctCwkZ-gb"
      },
      "execution_count": null,
      "outputs": []
    },
    {
      "cell_type": "code",
      "source": [
        "import requests\n",
        "\n",
        "# specify the API endpoint URL\n",
        "url = \"http://api.worldbank.org/v2/country/all/indicator/SH.MED.BEDS.ZS?format=json\"\n",
        "\n",
        "# send a GET request to the API endpoint\n",
        "response = requests.get(url)\n",
        "\n",
        "# check if the response was successful\n",
        "if response.status_code == 200:\n",
        "    # retrieve the data from the response\n",
        "    data = response.json()\n",
        "    # do something with the data, for example:\n",
        "    print(data)\n",
        "    for record in data[1]:\n",
        "      if record[\"value\"] is not None:\n",
        "        print(record[\"country\"][\"value\"], record[\"value\"])\n",
        "else:\n",
        "    # handle any errors that might have occurred\n",
        "    print(\"Request failed with status code:\", response.status_code)\n"
      ],
      "metadata": {
        "colab": {
          "base_uri": "https://localhost:8080/"
        },
        "id": "ntNDuIFQakQB",
        "outputId": "bab133eb-16e2-49b8-d217-279dbef0f176"
      },
      "execution_count": 76,
      "outputs": [
        {
          "output_type": "stream",
          "name": "stdout",
          "text": [
            "[{'page': 1, 'pages': 330, 'per_page': 50, 'total': 16492, 'sourceid': '2', 'sourcename': 'World Development Indicators', 'lastupdated': '2022-12-22'}, [{'indicator': {'id': 'SH.MED.BEDS.ZS', 'value': 'Hospital beds (per 1,000 people)'}, 'country': {'id': 'ZH', 'value': 'Africa Eastern and Southern'}, 'countryiso3code': 'AFE', 'date': '2021', 'value': None, 'unit': '', 'obs_status': '', 'decimal': 1}, {'indicator': {'id': 'SH.MED.BEDS.ZS', 'value': 'Hospital beds (per 1,000 people)'}, 'country': {'id': 'ZH', 'value': 'Africa Eastern and Southern'}, 'countryiso3code': 'AFE', 'date': '2020', 'value': None, 'unit': '', 'obs_status': '', 'decimal': 1}, {'indicator': {'id': 'SH.MED.BEDS.ZS', 'value': 'Hospital beds (per 1,000 people)'}, 'country': {'id': 'ZH', 'value': 'Africa Eastern and Southern'}, 'countryiso3code': 'AFE', 'date': '2019', 'value': None, 'unit': '', 'obs_status': '', 'decimal': 1}, {'indicator': {'id': 'SH.MED.BEDS.ZS', 'value': 'Hospital beds (per 1,000 people)'}, 'country': {'id': 'ZH', 'value': 'Africa Eastern and Southern'}, 'countryiso3code': 'AFE', 'date': '2018', 'value': None, 'unit': '', 'obs_status': '', 'decimal': 1}, {'indicator': {'id': 'SH.MED.BEDS.ZS', 'value': 'Hospital beds (per 1,000 people)'}, 'country': {'id': 'ZH', 'value': 'Africa Eastern and Southern'}, 'countryiso3code': 'AFE', 'date': '2017', 'value': None, 'unit': '', 'obs_status': '', 'decimal': 1}, {'indicator': {'id': 'SH.MED.BEDS.ZS', 'value': 'Hospital beds (per 1,000 people)'}, 'country': {'id': 'ZH', 'value': 'Africa Eastern and Southern'}, 'countryiso3code': 'AFE', 'date': '2016', 'value': None, 'unit': '', 'obs_status': '', 'decimal': 1}, {'indicator': {'id': 'SH.MED.BEDS.ZS', 'value': 'Hospital beds (per 1,000 people)'}, 'country': {'id': 'ZH', 'value': 'Africa Eastern and Southern'}, 'countryiso3code': 'AFE', 'date': '2015', 'value': None, 'unit': '', 'obs_status': '', 'decimal': 1}, {'indicator': {'id': 'SH.MED.BEDS.ZS', 'value': 'Hospital beds (per 1,000 people)'}, 'country': {'id': 'ZH', 'value': 'Africa Eastern and Southern'}, 'countryiso3code': 'AFE', 'date': '2014', 'value': None, 'unit': '', 'obs_status': '', 'decimal': 1}, {'indicator': {'id': 'SH.MED.BEDS.ZS', 'value': 'Hospital beds (per 1,000 people)'}, 'country': {'id': 'ZH', 'value': 'Africa Eastern and Southern'}, 'countryiso3code': 'AFE', 'date': '2013', 'value': None, 'unit': '', 'obs_status': '', 'decimal': 1}, {'indicator': {'id': 'SH.MED.BEDS.ZS', 'value': 'Hospital beds (per 1,000 people)'}, 'country': {'id': 'ZH', 'value': 'Africa Eastern and Southern'}, 'countryiso3code': 'AFE', 'date': '2012', 'value': None, 'unit': '', 'obs_status': '', 'decimal': 1}, {'indicator': {'id': 'SH.MED.BEDS.ZS', 'value': 'Hospital beds (per 1,000 people)'}, 'country': {'id': 'ZH', 'value': 'Africa Eastern and Southern'}, 'countryiso3code': 'AFE', 'date': '2011', 'value': None, 'unit': '', 'obs_status': '', 'decimal': 1}, {'indicator': {'id': 'SH.MED.BEDS.ZS', 'value': 'Hospital beds (per 1,000 people)'}, 'country': {'id': 'ZH', 'value': 'Africa Eastern and Southern'}, 'countryiso3code': 'AFE', 'date': '2010', 'value': None, 'unit': '', 'obs_status': '', 'decimal': 1}, {'indicator': {'id': 'SH.MED.BEDS.ZS', 'value': 'Hospital beds (per 1,000 people)'}, 'country': {'id': 'ZH', 'value': 'Africa Eastern and Southern'}, 'countryiso3code': 'AFE', 'date': '2009', 'value': None, 'unit': '', 'obs_status': '', 'decimal': 1}, {'indicator': {'id': 'SH.MED.BEDS.ZS', 'value': 'Hospital beds (per 1,000 people)'}, 'country': {'id': 'ZH', 'value': 'Africa Eastern and Southern'}, 'countryiso3code': 'AFE', 'date': '2008', 'value': None, 'unit': '', 'obs_status': '', 'decimal': 1}, {'indicator': {'id': 'SH.MED.BEDS.ZS', 'value': 'Hospital beds (per 1,000 people)'}, 'country': {'id': 'ZH', 'value': 'Africa Eastern and Southern'}, 'countryiso3code': 'AFE', 'date': '2007', 'value': None, 'unit': '', 'obs_status': '', 'decimal': 1}, {'indicator': {'id': 'SH.MED.BEDS.ZS', 'value': 'Hospital beds (per 1,000 people)'}, 'country': {'id': 'ZH', 'value': 'Africa Eastern and Southern'}, 'countryiso3code': 'AFE', 'date': '2006', 'value': 0.910850871743389, 'unit': '', 'obs_status': '', 'decimal': 1}, {'indicator': {'id': 'SH.MED.BEDS.ZS', 'value': 'Hospital beds (per 1,000 people)'}, 'country': {'id': 'ZH', 'value': 'Africa Eastern and Southern'}, 'countryiso3code': 'AFE', 'date': '2005', 'value': None, 'unit': '', 'obs_status': '', 'decimal': 1}, {'indicator': {'id': 'SH.MED.BEDS.ZS', 'value': 'Hospital beds (per 1,000 people)'}, 'country': {'id': 'ZH', 'value': 'Africa Eastern and Southern'}, 'countryiso3code': 'AFE', 'date': '2004', 'value': None, 'unit': '', 'obs_status': '', 'decimal': 1}, {'indicator': {'id': 'SH.MED.BEDS.ZS', 'value': 'Hospital beds (per 1,000 people)'}, 'country': {'id': 'ZH', 'value': 'Africa Eastern and Southern'}, 'countryiso3code': 'AFE', 'date': '2003', 'value': None, 'unit': '', 'obs_status': '', 'decimal': 1}, {'indicator': {'id': 'SH.MED.BEDS.ZS', 'value': 'Hospital beds (per 1,000 people)'}, 'country': {'id': 'ZH', 'value': 'Africa Eastern and Southern'}, 'countryiso3code': 'AFE', 'date': '2002', 'value': None, 'unit': '', 'obs_status': '', 'decimal': 1}, {'indicator': {'id': 'SH.MED.BEDS.ZS', 'value': 'Hospital beds (per 1,000 people)'}, 'country': {'id': 'ZH', 'value': 'Africa Eastern and Southern'}, 'countryiso3code': 'AFE', 'date': '2001', 'value': None, 'unit': '', 'obs_status': '', 'decimal': 1}, {'indicator': {'id': 'SH.MED.BEDS.ZS', 'value': 'Hospital beds (per 1,000 people)'}, 'country': {'id': 'ZH', 'value': 'Africa Eastern and Southern'}, 'countryiso3code': 'AFE', 'date': '2000', 'value': None, 'unit': '', 'obs_status': '', 'decimal': 1}, {'indicator': {'id': 'SH.MED.BEDS.ZS', 'value': 'Hospital beds (per 1,000 people)'}, 'country': {'id': 'ZH', 'value': 'Africa Eastern and Southern'}, 'countryiso3code': 'AFE', 'date': '1999', 'value': None, 'unit': '', 'obs_status': '', 'decimal': 1}, {'indicator': {'id': 'SH.MED.BEDS.ZS', 'value': 'Hospital beds (per 1,000 people)'}, 'country': {'id': 'ZH', 'value': 'Africa Eastern and Southern'}, 'countryiso3code': 'AFE', 'date': '1998', 'value': None, 'unit': '', 'obs_status': '', 'decimal': 1}, {'indicator': {'id': 'SH.MED.BEDS.ZS', 'value': 'Hospital beds (per 1,000 people)'}, 'country': {'id': 'ZH', 'value': 'Africa Eastern and Southern'}, 'countryiso3code': 'AFE', 'date': '1997', 'value': None, 'unit': '', 'obs_status': '', 'decimal': 1}, {'indicator': {'id': 'SH.MED.BEDS.ZS', 'value': 'Hospital beds (per 1,000 people)'}, 'country': {'id': 'ZH', 'value': 'Africa Eastern and Southern'}, 'countryiso3code': 'AFE', 'date': '1996', 'value': None, 'unit': '', 'obs_status': '', 'decimal': 1}, {'indicator': {'id': 'SH.MED.BEDS.ZS', 'value': 'Hospital beds (per 1,000 people)'}, 'country': {'id': 'ZH', 'value': 'Africa Eastern and Southern'}, 'countryiso3code': 'AFE', 'date': '1995', 'value': None, 'unit': '', 'obs_status': '', 'decimal': 1}, {'indicator': {'id': 'SH.MED.BEDS.ZS', 'value': 'Hospital beds (per 1,000 people)'}, 'country': {'id': 'ZH', 'value': 'Africa Eastern and Southern'}, 'countryiso3code': 'AFE', 'date': '1994', 'value': None, 'unit': '', 'obs_status': '', 'decimal': 1}, {'indicator': {'id': 'SH.MED.BEDS.ZS', 'value': 'Hospital beds (per 1,000 people)'}, 'country': {'id': 'ZH', 'value': 'Africa Eastern and Southern'}, 'countryiso3code': 'AFE', 'date': '1993', 'value': None, 'unit': '', 'obs_status': '', 'decimal': 1}, {'indicator': {'id': 'SH.MED.BEDS.ZS', 'value': 'Hospital beds (per 1,000 people)'}, 'country': {'id': 'ZH', 'value': 'Africa Eastern and Southern'}, 'countryiso3code': 'AFE', 'date': '1992', 'value': None, 'unit': '', 'obs_status': '', 'decimal': 1}, {'indicator': {'id': 'SH.MED.BEDS.ZS', 'value': 'Hospital beds (per 1,000 people)'}, 'country': {'id': 'ZH', 'value': 'Africa Eastern and Southern'}, 'countryiso3code': 'AFE', 'date': '1991', 'value': None, 'unit': '', 'obs_status': '', 'decimal': 1}, {'indicator': {'id': 'SH.MED.BEDS.ZS', 'value': 'Hospital beds (per 1,000 people)'}, 'country': {'id': 'ZH', 'value': 'Africa Eastern and Southern'}, 'countryiso3code': 'AFE', 'date': '1990', 'value': 1.01027617850652, 'unit': '', 'obs_status': '', 'decimal': 1}, {'indicator': {'id': 'SH.MED.BEDS.ZS', 'value': 'Hospital beds (per 1,000 people)'}, 'country': {'id': 'ZH', 'value': 'Africa Eastern and Southern'}, 'countryiso3code': 'AFE', 'date': '1989', 'value': None, 'unit': '', 'obs_status': '', 'decimal': 1}, {'indicator': {'id': 'SH.MED.BEDS.ZS', 'value': 'Hospital beds (per 1,000 people)'}, 'country': {'id': 'ZH', 'value': 'Africa Eastern and Southern'}, 'countryiso3code': 'AFE', 'date': '1988', 'value': None, 'unit': '', 'obs_status': '', 'decimal': 1}, {'indicator': {'id': 'SH.MED.BEDS.ZS', 'value': 'Hospital beds (per 1,000 people)'}, 'country': {'id': 'ZH', 'value': 'Africa Eastern and Southern'}, 'countryiso3code': 'AFE', 'date': '1987', 'value': None, 'unit': '', 'obs_status': '', 'decimal': 1}, {'indicator': {'id': 'SH.MED.BEDS.ZS', 'value': 'Hospital beds (per 1,000 people)'}, 'country': {'id': 'ZH', 'value': 'Africa Eastern and Southern'}, 'countryiso3code': 'AFE', 'date': '1986', 'value': None, 'unit': '', 'obs_status': '', 'decimal': 1}, {'indicator': {'id': 'SH.MED.BEDS.ZS', 'value': 'Hospital beds (per 1,000 people)'}, 'country': {'id': 'ZH', 'value': 'Africa Eastern and Southern'}, 'countryiso3code': 'AFE', 'date': '1985', 'value': None, 'unit': '', 'obs_status': '', 'decimal': 1}, {'indicator': {'id': 'SH.MED.BEDS.ZS', 'value': 'Hospital beds (per 1,000 people)'}, 'country': {'id': 'ZH', 'value': 'Africa Eastern and Southern'}, 'countryiso3code': 'AFE', 'date': '1984', 'value': None, 'unit': '', 'obs_status': '', 'decimal': 1}, {'indicator': {'id': 'SH.MED.BEDS.ZS', 'value': 'Hospital beds (per 1,000 people)'}, 'country': {'id': 'ZH', 'value': 'Africa Eastern and Southern'}, 'countryiso3code': 'AFE', 'date': '1983', 'value': None, 'unit': '', 'obs_status': '', 'decimal': 1}, {'indicator': {'id': 'SH.MED.BEDS.ZS', 'value': 'Hospital beds (per 1,000 people)'}, 'country': {'id': 'ZH', 'value': 'Africa Eastern and Southern'}, 'countryiso3code': 'AFE', 'date': '1982', 'value': None, 'unit': '', 'obs_status': '', 'decimal': 1}, {'indicator': {'id': 'SH.MED.BEDS.ZS', 'value': 'Hospital beds (per 1,000 people)'}, 'country': {'id': 'ZH', 'value': 'Africa Eastern and Southern'}, 'countryiso3code': 'AFE', 'date': '1981', 'value': None, 'unit': '', 'obs_status': '', 'decimal': 1}, {'indicator': {'id': 'SH.MED.BEDS.ZS', 'value': 'Hospital beds (per 1,000 people)'}, 'country': {'id': 'ZH', 'value': 'Africa Eastern and Southern'}, 'countryiso3code': 'AFE', 'date': '1980', 'value': None, 'unit': '', 'obs_status': '', 'decimal': 1}, {'indicator': {'id': 'SH.MED.BEDS.ZS', 'value': 'Hospital beds (per 1,000 people)'}, 'country': {'id': 'ZH', 'value': 'Africa Eastern and Southern'}, 'countryiso3code': 'AFE', 'date': '1979', 'value': None, 'unit': '', 'obs_status': '', 'decimal': 1}, {'indicator': {'id': 'SH.MED.BEDS.ZS', 'value': 'Hospital beds (per 1,000 people)'}, 'country': {'id': 'ZH', 'value': 'Africa Eastern and Southern'}, 'countryiso3code': 'AFE', 'date': '1978', 'value': None, 'unit': '', 'obs_status': '', 'decimal': 1}, {'indicator': {'id': 'SH.MED.BEDS.ZS', 'value': 'Hospital beds (per 1,000 people)'}, 'country': {'id': 'ZH', 'value': 'Africa Eastern and Southern'}, 'countryiso3code': 'AFE', 'date': '1977', 'value': None, 'unit': '', 'obs_status': '', 'decimal': 1}, {'indicator': {'id': 'SH.MED.BEDS.ZS', 'value': 'Hospital beds (per 1,000 people)'}, 'country': {'id': 'ZH', 'value': 'Africa Eastern and Southern'}, 'countryiso3code': 'AFE', 'date': '1976', 'value': None, 'unit': '', 'obs_status': '', 'decimal': 1}, {'indicator': {'id': 'SH.MED.BEDS.ZS', 'value': 'Hospital beds (per 1,000 people)'}, 'country': {'id': 'ZH', 'value': 'Africa Eastern and Southern'}, 'countryiso3code': 'AFE', 'date': '1975', 'value': None, 'unit': '', 'obs_status': '', 'decimal': 1}, {'indicator': {'id': 'SH.MED.BEDS.ZS', 'value': 'Hospital beds (per 1,000 people)'}, 'country': {'id': 'ZH', 'value': 'Africa Eastern and Southern'}, 'countryiso3code': 'AFE', 'date': '1974', 'value': None, 'unit': '', 'obs_status': '', 'decimal': 1}, {'indicator': {'id': 'SH.MED.BEDS.ZS', 'value': 'Hospital beds (per 1,000 people)'}, 'country': {'id': 'ZH', 'value': 'Africa Eastern and Southern'}, 'countryiso3code': 'AFE', 'date': '1973', 'value': None, 'unit': '', 'obs_status': '', 'decimal': 1}, {'indicator': {'id': 'SH.MED.BEDS.ZS', 'value': 'Hospital beds (per 1,000 people)'}, 'country': {'id': 'ZH', 'value': 'Africa Eastern and Southern'}, 'countryiso3code': 'AFE', 'date': '1972', 'value': None, 'unit': '', 'obs_status': '', 'decimal': 1}]]\n",
            "Africa Eastern and Southern 0.910850871743389\n",
            "Africa Eastern and Southern 1.01027617850652\n"
          ]
        }
      ]
    },
    {
      "cell_type": "code",
      "source": [
        "# print(response.json())\n",
        "print(data[1][1]['country'])\n",
        "data[1][0]\n"
      ],
      "metadata": {
        "colab": {
          "base_uri": "https://localhost:8080/"
        },
        "id": "Kp4EvFlubzaV",
        "outputId": "39c8e5ec-0d5f-4e68-f032-655a3d6310df"
      },
      "execution_count": 80,
      "outputs": [
        {
          "output_type": "stream",
          "name": "stdout",
          "text": [
            "{'id': 'ZH', 'value': 'Africa Eastern and Southern'}\n"
          ]
        },
        {
          "output_type": "execute_result",
          "data": {
            "text/plain": [
              "{'indicator': {'id': 'SH.MED.BEDS.ZS',\n",
              "  'value': 'Hospital beds (per 1,000 people)'},\n",
              " 'country': {'id': 'ZH', 'value': 'Africa Eastern and Southern'},\n",
              " 'countryiso3code': 'AFE',\n",
              " 'date': '2021',\n",
              " 'value': None,\n",
              " 'unit': '',\n",
              " 'obs_status': '',\n",
              " 'decimal': 1}"
            ]
          },
          "metadata": {},
          "execution_count": 80
        }
      ]
    },
    {
      "cell_type": "code",
      "source": [
        "data[0]\n"
      ],
      "metadata": {
        "id": "5RySqFgtgGje"
      },
      "execution_count": null,
      "outputs": []
    },
    {
      "cell_type": "code",
      "source": [
        "import requests\n",
        "from bs4 import BeautifulSoup\n",
        "\n",
        "# specify the URL of the World Bank webpage you want to scrape\n",
        "url = \"http://databank.worldbank.org/data/reports.aspx?source=health-nutrition-and-population-statistics#\"\n",
        "\n",
        "# send a GET request to the URL\n",
        "response = requests.get(url)\n",
        "\n",
        "# parse the HTML content of the response\n",
        "soup = BeautifulSoup(response.content, \"html.parser\")\n",
        "\n",
        "# find the relevant HTML elements in the page\n",
        "table_rows = soup.find_all(\"tr\")\n",
        "\n",
        "# extract the data from the table\n",
        "for row in table_rows:\n",
        "    cells = row.find_all(\"td\")\n",
        "    if len(cells) > 0:\n",
        "        # do something with the data, for example:\n",
        "        print(cells[0].text, cells[1].text)\n"
      ],
      "metadata": {
        "id": "1x-FvKO2rh_j"
      },
      "execution_count": null,
      "outputs": []
    },
    {
      "cell_type": "code",
      "source": [
        "pip install wbdata"
      ],
      "metadata": {
        "id": "KkxJEr0ps5AH"
      },
      "execution_count": null,
      "outputs": []
    },
    {
      "cell_type": "code",
      "source": [
        "import wbdata\n",
        "\n",
        "# Set the countries and indicators\n",
        "countries = [\"CN\", \"IN\", \"US\", \"MX\"]\n",
        "indicators = {\n",
        "    \"NY.GDP.MKTP.CD\": \"GDP (current US$)\",\n",
        "    \"SP.POP.TOTL\": \"population, total\",\n",
        "}\n",
        "\n",
        "# Download the data\n",
        "data = wbdata.get_dataframe(indicators, country=countries, convert_date=False)\n",
        "\n",
        "# Print the data\n",
        "print(data)\n"
      ],
      "metadata": {
        "id": "9CquJDYgsfn5"
      },
      "execution_count": null,
      "outputs": []
    },
    {
      "cell_type": "code",
      "source": [
        "import wbdata\n",
        "import pandas as pd\n",
        "\n",
        "# set the country and indicator\n",
        "country = \"USA\"\n",
        "indicator = {\"NY.GDP.MKTP.CD\": \"GDP\"}\n",
        "\n",
        "# retrieve the data\n",
        "df = wbdata.get_dataframe(indicator, country=country)\n",
        "\n",
        "# display the data\n",
        "print(df)\n"
      ],
      "metadata": {
        "id": "HvQa36H4tJXf"
      },
      "execution_count": null,
      "outputs": []
    },
    {
      "cell_type": "code",
      "source": [
        "import wbdata\n",
        "\n",
        "# retrieve the country codes and names\n",
        "countries = wbdata.get_country()\n",
        "\n",
        "# convert the data to a pandas dataframe\n",
        "df = pd.DataFrame(countries)\n",
        "\n",
        "# display the data\n",
        "print(df)\n"
      ],
      "metadata": {
        "id": "_LPDCsPQtVFp"
      },
      "execution_count": null,
      "outputs": []
    },
    {
      "cell_type": "code",
      "source": [
        "# df.loc[1].iso2Code \n",
        "# df.index\n",
        "df.columns.get_loc(\"iso2Code\")\n",
        "print(list(np.where(df['iso2Code'] ==\"ZH\"))[0])\n",
        "print(list(np.where(df['id'] ==\"USA\"))[0])\n",
        "df.shape"
      ],
      "metadata": {
        "colab": {
          "base_uri": "https://localhost:8080/"
        },
        "id": "HQV2COryt8ll",
        "outputId": "9571c851-0b19-42d9-a6cf-16f1c7c73d97"
      },
      "execution_count": 137,
      "outputs": [
        {
          "output_type": "stream",
          "name": "stdout",
          "text": [
            "[1]\n",
            "[283]\n"
          ]
        },
        {
          "output_type": "execute_result",
          "data": {
            "text/plain": [
              "(299, 10)"
            ]
          },
          "metadata": {},
          "execution_count": 137
        }
      ]
    },
    {
      "cell_type": "code",
      "source": [
        "import wbdata\n",
        "\n",
        "# retrieve the list of country codes\n",
        "countries = wbdata.get_country()\n",
        "\n",
        "# print the country codes\n",
        "for country in countries:\n",
        "    print(country[\"id\"], country[\"name\"])\n"
      ],
      "metadata": {
        "id": "J4KOGHdJ3aJ-"
      },
      "execution_count": null,
      "outputs": []
    },
    {
      "cell_type": "code",
      "source": [
        "import wbdata\n",
        "\n",
        "# retrieve the list of indicators\n",
        "indicators = wbdata.get_indicator()\n",
        "print(len(indicators))\n",
        "\n",
        "# print the indicator codes and names\n",
        "for indicator in indicators:\n",
        "    print(indicator[\"id\"], indicator[\"name\"])\n"
      ],
      "metadata": {
        "id": "iDjiCh2b4NlE"
      },
      "execution_count": null,
      "outputs": []
    },
    {
      "cell_type": "code",
      "source": [
        "import wbdata\n",
        "\n",
        "# specify the search term\n",
        "search_term = \"pop\"\n",
        "\n",
        "# retrieve the list of indicators related to the search term\n",
        "# indicators = wbdata.search_indicators(search_term)\n",
        "\n",
        "# retrieve the list of indicators\n",
        "indicators = wbdata.get_indicator()\n",
        "\n",
        "# filter the indicators to only include those with the search term in the name\n",
        "vaccine_indicators = [indicator for indicator in indicators if search_term in indicator[\"name\"].lower()]\n",
        "\n",
        "# print the indicator codes and names\n",
        "for indicator in vaccine_indicators:\n",
        "    print(indicator[\"id\"], indicator[\"name\"])\n",
        "\n"
      ],
      "metadata": {
        "id": "mm2FoPjs4p7U"
      },
      "execution_count": null,
      "outputs": []
    },
    {
      "cell_type": "code",
      "source": [
        "#vaccine data \n",
        "\n",
        "# set the country and indicator\n",
        "country = \"USA\"\n",
        "indicator = {\"SH.IMM.IDPT\": \"Vaccine coverage, interdepartmental\"}\n",
        "\n",
        "# retrieve the data\n",
        "df = wbdata.get_dataframe(indicator, country=country)\n",
        "\n",
        "# display the data\n",
        "print(df)\n",
        "\n",
        "\n"
      ],
      "metadata": {
        "id": "4T_9RQR_7T6P"
      },
      "execution_count": null,
      "outputs": []
    },
    {
      "cell_type": "code",
      "source": [
        "import wbdata\n",
        "import pandas as pd\n",
        "\n",
        "# set the country and indicator\n",
        "country = \"USA\"\n",
        "indicator = {\"SH.IMM.DTHP\": \"DTP3\"}\n",
        "\n",
        "# retrieve the data\n",
        "df = wbdata.get_dataframe(indicator, country=country)\n",
        "\n",
        "# display the data\n",
        "print(df)\n"
      ],
      "metadata": {
        "id": "hJjxKN9t8GD_"
      },
      "execution_count": null,
      "outputs": []
    },
    {
      "cell_type": "code",
      "source": [
        "wbdata.get_indicator()[1]"
      ],
      "metadata": {
        "colab": {
          "base_uri": "https://localhost:8080/"
        },
        "id": "Kq0sw-mW8qb7",
        "outputId": "f7724d06-f776-49e7-c57c-1006e8dca646"
      },
      "execution_count": 162,
      "outputs": [
        {
          "output_type": "execute_result",
          "data": {
            "text/plain": [
              "{'id': '1.0.HCount.2.5usd',\n",
              " 'name': 'Poverty Headcount ($2.50 a day)',\n",
              " 'unit': '',\n",
              " 'source': {'id': '37', 'value': 'LAC Equity Lab'},\n",
              " 'sourceNote': 'The poverty headcount index measures the proportion of the population with daily per capita income (in 2005 PPP) below the poverty line.',\n",
              " 'sourceOrganization': 'LAC Equity Lab tabulations of SEDLAC (CEDLAS and the World Bank).',\n",
              " 'topics': [{'id': '11', 'value': 'Poverty '}]}"
            ]
          },
          "metadata": {},
          "execution_count": 162
        }
      ]
    },
    {
      "cell_type": "code",
      "source": [
        "len(indicators)"
      ],
      "metadata": {
        "id": "ZUQHhub56RFo"
      },
      "execution_count": null,
      "outputs": []
    }
  ]
}